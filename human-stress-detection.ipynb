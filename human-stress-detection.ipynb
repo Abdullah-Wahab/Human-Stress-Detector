{
 "cells": [
  {
   "attachments": {},
   "cell_type": "markdown",
   "id": "cdadb09d",
   "metadata": {
    "papermill": {
     "duration": 0.019677,
     "end_time": "2022-03-09T04:55:52.859866",
     "exception": false,
     "start_time": "2022-03-09T04:55:52.840189",
     "status": "completed"
    },
    "tags": []
   },
   "source": [
    "# Human Stress Detection using Multi-Layer Perceptrons"
   ]
  },
  {
   "cell_type": "code",
   "execution_count": 1,
   "id": "b450ac3f",
   "metadata": {
    "execution": {
     "iopub.execute_input": "2022-03-09T04:55:52.903079Z",
     "iopub.status.busy": "2022-03-09T04:55:52.901420Z",
     "iopub.status.idle": "2022-03-09T04:55:53.964222Z",
     "shell.execute_reply": "2022-03-09T04:55:53.963618Z",
     "shell.execute_reply.started": "2022-03-09T04:12:00.171373Z"
    },
    "papermill": {
     "duration": 1.08612,
     "end_time": "2022-03-09T04:55:53.964394",
     "exception": false,
     "start_time": "2022-03-09T04:55:52.878274",
     "status": "completed"
    },
    "tags": []
   },
   "outputs": [],
   "source": [
    "import pandas as pd\n",
    "import numpy as np\n",
    "import matplotlib.pyplot as plot\n",
    "import seaborn as sb"
   ]
  },
  {
   "attachments": {},
   "cell_type": "markdown",
   "id": "529ba366",
   "metadata": {
    "papermill": {
     "duration": 0.019077,
     "end_time": "2022-03-09T04:55:54.001913",
     "exception": false,
     "start_time": "2022-03-09T04:55:53.982836",
     "status": "completed"
    },
    "tags": []
   },
   "source": [
    "<div style=\"font-size:1.5em;\"><b>Reading the dataset</b></div>"
   ]
  },
  {
   "cell_type": "code",
   "execution_count": null,
   "id": "5b9f51a2",
   "metadata": {
    "execution": {
     "iopub.execute_input": "2022-03-09T04:55:54.043643Z",
     "iopub.status.busy": "2022-03-09T04:55:54.043003Z",
     "iopub.status.idle": "2022-03-09T04:55:54.076261Z",
     "shell.execute_reply": "2022-03-09T04:55:54.075788Z",
     "shell.execute_reply.started": "2022-03-09T04:12:01.172789Z"
    },
    "papermill": {
     "duration": 0.056187,
     "end_time": "2022-03-09T04:55:54.076395",
     "exception": false,
     "start_time": "2022-03-09T04:55:54.020208",
     "status": "completed"
    },
    "tags": []
   },
   "outputs": [
    {
     "data": {
      "text/html": [
       "<div>\n",
       "<style scoped>\n",
       "    .dataframe tbody tr th:only-of-type {\n",
       "        vertical-align: middle;\n",
       "    }\n",
       "\n",
       "    .dataframe tbody tr th {\n",
       "        vertical-align: top;\n",
       "    }\n",
       "\n",
       "    .dataframe thead th {\n",
       "        text-align: right;\n",
       "    }\n",
       "</style>\n",
       "<table border=\"1\" class=\"dataframe\">\n",
       "  <thead>\n",
       "    <tr style=\"text-align: right;\">\n",
       "      <th></th>\n",
       "      <th>sr</th>\n",
       "      <th>rr</th>\n",
       "      <th>t</th>\n",
       "      <th>lm</th>\n",
       "      <th>bo</th>\n",
       "      <th>rem</th>\n",
       "      <th>sr.1</th>\n",
       "      <th>hr</th>\n",
       "      <th>sl</th>\n",
       "    </tr>\n",
       "  </thead>\n",
       "  <tbody>\n",
       "    <tr>\n",
       "      <th>0</th>\n",
       "      <td>93.80</td>\n",
       "      <td>25.680</td>\n",
       "      <td>91.840</td>\n",
       "      <td>16.600</td>\n",
       "      <td>89.840</td>\n",
       "      <td>99.60</td>\n",
       "      <td>1.840</td>\n",
       "      <td>74.20</td>\n",
       "      <td>3</td>\n",
       "    </tr>\n",
       "    <tr>\n",
       "      <th>1</th>\n",
       "      <td>91.64</td>\n",
       "      <td>25.104</td>\n",
       "      <td>91.552</td>\n",
       "      <td>15.880</td>\n",
       "      <td>89.552</td>\n",
       "      <td>98.88</td>\n",
       "      <td>1.552</td>\n",
       "      <td>72.76</td>\n",
       "      <td>3</td>\n",
       "    </tr>\n",
       "    <tr>\n",
       "      <th>2</th>\n",
       "      <td>60.00</td>\n",
       "      <td>20.000</td>\n",
       "      <td>96.000</td>\n",
       "      <td>10.000</td>\n",
       "      <td>95.000</td>\n",
       "      <td>85.00</td>\n",
       "      <td>7.000</td>\n",
       "      <td>60.00</td>\n",
       "      <td>1</td>\n",
       "    </tr>\n",
       "    <tr>\n",
       "      <th>3</th>\n",
       "      <td>85.76</td>\n",
       "      <td>23.536</td>\n",
       "      <td>90.768</td>\n",
       "      <td>13.920</td>\n",
       "      <td>88.768</td>\n",
       "      <td>96.92</td>\n",
       "      <td>0.768</td>\n",
       "      <td>68.84</td>\n",
       "      <td>3</td>\n",
       "    </tr>\n",
       "    <tr>\n",
       "      <th>4</th>\n",
       "      <td>48.12</td>\n",
       "      <td>17.248</td>\n",
       "      <td>97.872</td>\n",
       "      <td>6.496</td>\n",
       "      <td>96.248</td>\n",
       "      <td>72.48</td>\n",
       "      <td>8.248</td>\n",
       "      <td>53.12</td>\n",
       "      <td>0</td>\n",
       "    </tr>\n",
       "  </tbody>\n",
       "</table>\n",
       "</div>"
      ],
      "text/plain": [
       "      sr      rr       t      lm      bo    rem   sr.1     hr  sl\n",
       "0  93.80  25.680  91.840  16.600  89.840  99.60  1.840  74.20   3\n",
       "1  91.64  25.104  91.552  15.880  89.552  98.88  1.552  72.76   3\n",
       "2  60.00  20.000  96.000  10.000  95.000  85.00  7.000  60.00   1\n",
       "3  85.76  23.536  90.768  13.920  88.768  96.92  0.768  68.84   3\n",
       "4  48.12  17.248  97.872   6.496  96.248  72.48  8.248  53.12   0"
      ]
     },
     "execution_count": 2,
     "metadata": {},
     "output_type": "execute_result"
    }
   ],
   "source": [
    "data=pd.read_csv(f\"Dataset for hsd.csv\")\n",
    "data.head()"
   ]
  },
  {
   "cell_type": "code",
   "execution_count": 3,
   "id": "9ce9f7b7",
   "metadata": {
    "execution": {
     "iopub.execute_input": "2022-03-09T04:55:54.120230Z",
     "iopub.status.busy": "2022-03-09T04:55:54.119603Z",
     "iopub.status.idle": "2022-03-09T04:55:54.121963Z",
     "shell.execute_reply": "2022-03-09T04:55:54.122401Z",
     "shell.execute_reply.started": "2022-03-09T04:12:05.194545Z"
    },
    "papermill": {
     "duration": 0.026858,
     "end_time": "2022-03-09T04:55:54.122584",
     "exception": false,
     "start_time": "2022-03-09T04:55:54.095726",
     "status": "completed"
    },
    "tags": []
   },
   "outputs": [
    {
     "data": {
      "text/plain": [
       "(630, 9)"
      ]
     },
     "execution_count": 3,
     "metadata": {},
     "output_type": "execute_result"
    }
   ],
   "source": [
    "data.shape"
   ]
  },
  {
   "attachments": {},
   "cell_type": "markdown",
   "id": "c0f84274",
   "metadata": {
    "papermill": {
     "duration": 0.019024,
     "end_time": "2022-03-09T04:55:54.160794",
     "exception": false,
     "start_time": "2022-03-09T04:55:54.141770",
     "status": "completed"
    },
    "tags": []
   },
   "source": [
    "<div style=\"font-size:1.2em;\">I'm renaming the columns here just for easy understanding.</div>"
   ]
  },
  {
   "cell_type": "code",
   "execution_count": 4,
   "id": "f05ae892",
   "metadata": {
    "execution": {
     "iopub.execute_input": "2022-03-09T04:55:54.205062Z",
     "iopub.status.busy": "2022-03-09T04:55:54.204113Z",
     "iopub.status.idle": "2022-03-09T04:55:54.219055Z",
     "shell.execute_reply": "2022-03-09T04:55:54.219567Z",
     "shell.execute_reply.started": "2022-03-09T04:14:32.971304Z"
    },
    "papermill": {
     "duration": 0.039955,
     "end_time": "2022-03-09T04:55:54.219733",
     "exception": false,
     "start_time": "2022-03-09T04:55:54.179778",
     "status": "completed"
    },
    "tags": []
   },
   "outputs": [
    {
     "data": {
      "text/html": [
       "<div>\n",
       "<style scoped>\n",
       "    .dataframe tbody tr th:only-of-type {\n",
       "        vertical-align: middle;\n",
       "    }\n",
       "\n",
       "    .dataframe tbody tr th {\n",
       "        vertical-align: top;\n",
       "    }\n",
       "\n",
       "    .dataframe thead th {\n",
       "        text-align: right;\n",
       "    }\n",
       "</style>\n",
       "<table border=\"1\" class=\"dataframe\">\n",
       "  <thead>\n",
       "    <tr style=\"text-align: right;\">\n",
       "      <th></th>\n",
       "      <th>snoring_rate</th>\n",
       "      <th>respiration_rate</th>\n",
       "      <th>body_temperature</th>\n",
       "      <th>limb_movement</th>\n",
       "      <th>blood_oxygen</th>\n",
       "      <th>eye_movement</th>\n",
       "      <th>sleeping_hours</th>\n",
       "      <th>heart_rate</th>\n",
       "      <th>stress_level</th>\n",
       "    </tr>\n",
       "  </thead>\n",
       "  <tbody>\n",
       "    <tr>\n",
       "      <th>0</th>\n",
       "      <td>93.80</td>\n",
       "      <td>25.680</td>\n",
       "      <td>91.840</td>\n",
       "      <td>16.600</td>\n",
       "      <td>89.840</td>\n",
       "      <td>99.60</td>\n",
       "      <td>1.840</td>\n",
       "      <td>74.20</td>\n",
       "      <td>3</td>\n",
       "    </tr>\n",
       "    <tr>\n",
       "      <th>1</th>\n",
       "      <td>91.64</td>\n",
       "      <td>25.104</td>\n",
       "      <td>91.552</td>\n",
       "      <td>15.880</td>\n",
       "      <td>89.552</td>\n",
       "      <td>98.88</td>\n",
       "      <td>1.552</td>\n",
       "      <td>72.76</td>\n",
       "      <td>3</td>\n",
       "    </tr>\n",
       "    <tr>\n",
       "      <th>2</th>\n",
       "      <td>60.00</td>\n",
       "      <td>20.000</td>\n",
       "      <td>96.000</td>\n",
       "      <td>10.000</td>\n",
       "      <td>95.000</td>\n",
       "      <td>85.00</td>\n",
       "      <td>7.000</td>\n",
       "      <td>60.00</td>\n",
       "      <td>1</td>\n",
       "    </tr>\n",
       "    <tr>\n",
       "      <th>3</th>\n",
       "      <td>85.76</td>\n",
       "      <td>23.536</td>\n",
       "      <td>90.768</td>\n",
       "      <td>13.920</td>\n",
       "      <td>88.768</td>\n",
       "      <td>96.92</td>\n",
       "      <td>0.768</td>\n",
       "      <td>68.84</td>\n",
       "      <td>3</td>\n",
       "    </tr>\n",
       "    <tr>\n",
       "      <th>4</th>\n",
       "      <td>48.12</td>\n",
       "      <td>17.248</td>\n",
       "      <td>97.872</td>\n",
       "      <td>6.496</td>\n",
       "      <td>96.248</td>\n",
       "      <td>72.48</td>\n",
       "      <td>8.248</td>\n",
       "      <td>53.12</td>\n",
       "      <td>0</td>\n",
       "    </tr>\n",
       "  </tbody>\n",
       "</table>\n",
       "</div>"
      ],
      "text/plain": [
       "   snoring_rate  respiration_rate  body_temperature  limb_movement  \\\n",
       "0         93.80            25.680            91.840         16.600   \n",
       "1         91.64            25.104            91.552         15.880   \n",
       "2         60.00            20.000            96.000         10.000   \n",
       "3         85.76            23.536            90.768         13.920   \n",
       "4         48.12            17.248            97.872          6.496   \n",
       "\n",
       "   blood_oxygen  eye_movement  sleeping_hours  heart_rate  stress_level  \n",
       "0        89.840         99.60           1.840       74.20             3  \n",
       "1        89.552         98.88           1.552       72.76             3  \n",
       "2        95.000         85.00           7.000       60.00             1  \n",
       "3        88.768         96.92           0.768       68.84             3  \n",
       "4        96.248         72.48           8.248       53.12             0  "
      ]
     },
     "execution_count": 4,
     "metadata": {},
     "output_type": "execute_result"
    }
   ],
   "source": [
    "data.columns=['snoring_rate', 'respiration_rate', 'body_temperature', 'limb_movement', 'blood_oxygen', \\\n",
    "             'eye_movement', 'sleeping_hours', 'heart_rate', 'stress_level']\n",
    "data.head()"
   ]
  },
  {
   "attachments": {},
   "cell_type": "markdown",
   "id": "4c8718c4",
   "metadata": {
    "papermill": {
     "duration": 0.020304,
     "end_time": "2022-03-09T04:55:54.260137",
     "exception": false,
     "start_time": "2022-03-09T04:55:54.239833",
     "status": "completed"
    },
    "tags": []
   },
   "source": [
    "<div style=\"font-size:1.5em;\"><b>Checking for null values</b></div>"
   ]
  },
  {
   "cell_type": "code",
   "execution_count": 5,
   "id": "ee43e163",
   "metadata": {
    "execution": {
     "iopub.execute_input": "2022-03-09T04:55:54.303137Z",
     "iopub.status.busy": "2022-03-09T04:55:54.302229Z",
     "iopub.status.idle": "2022-03-09T04:55:54.309338Z",
     "shell.execute_reply": "2022-03-09T04:55:54.309876Z",
     "shell.execute_reply.started": "2022-03-09T04:14:36.077428Z"
    },
    "papermill": {
     "duration": 0.030123,
     "end_time": "2022-03-09T04:55:54.310064",
     "exception": false,
     "start_time": "2022-03-09T04:55:54.279941",
     "status": "completed"
    },
    "tags": []
   },
   "outputs": [
    {
     "data": {
      "text/plain": [
       "snoring_rate        False\n",
       "respiration_rate    False\n",
       "body_temperature    False\n",
       "limb_movement       False\n",
       "blood_oxygen        False\n",
       "eye_movement        False\n",
       "sleeping_hours      False\n",
       "heart_rate          False\n",
       "stress_level        False\n",
       "dtype: bool"
      ]
     },
     "execution_count": 5,
     "metadata": {},
     "output_type": "execute_result"
    }
   ],
   "source": [
    "data.isnull().any()"
   ]
  },
  {
   "attachments": {},
   "cell_type": "markdown",
   "id": "e10a5404",
   "metadata": {
    "papermill": {
     "duration": 0.020469,
     "end_time": "2022-03-09T04:55:54.351338",
     "exception": false,
     "start_time": "2022-03-09T04:55:54.330869",
     "status": "completed"
    },
    "tags": []
   },
   "source": [
    "<div style=\"font-size:1.2em;\">Since there are no null values, I'm proceeding to the next step.</div>"
   ]
  },
  {
   "attachments": {},
   "cell_type": "markdown",
   "id": "36e0e4ee",
   "metadata": {
    "papermill": {
     "duration": 0.020485,
     "end_time": "2022-03-09T04:55:54.392334",
     "exception": false,
     "start_time": "2022-03-09T04:55:54.371849",
     "status": "completed"
    },
    "tags": []
   },
   "source": [
    "<div style=\"font-size:1.5em;\"><b>Splitting the data into Train and Test datasets</b></div>"
   ]
  },
  {
   "cell_type": "code",
   "execution_count": 6,
   "id": "f5845dc0",
   "metadata": {
    "execution": {
     "iopub.execute_input": "2022-03-09T04:55:54.438742Z",
     "iopub.status.busy": "2022-03-09T04:55:54.437971Z",
     "iopub.status.idle": "2022-03-09T04:55:54.626216Z",
     "shell.execute_reply": "2022-03-09T04:55:54.625706Z",
     "shell.execute_reply.started": "2022-03-09T04:17:37.550554Z"
    },
    "papermill": {
     "duration": 0.213204,
     "end_time": "2022-03-09T04:55:54.626360",
     "exception": false,
     "start_time": "2022-03-09T04:55:54.413156",
     "status": "completed"
    },
    "tags": []
   },
   "outputs": [],
   "source": [
    "from sklearn.model_selection import train_test_split"
   ]
  },
  {
   "cell_type": "code",
   "execution_count": 7,
   "id": "5d4b5caf",
   "metadata": {
    "execution": {
     "iopub.execute_input": "2022-03-09T04:55:54.679030Z",
     "iopub.status.busy": "2022-03-09T04:55:54.678277Z",
     "iopub.status.idle": "2022-03-09T04:55:54.685034Z",
     "shell.execute_reply": "2022-03-09T04:55:54.684359Z",
     "shell.execute_reply.started": "2022-03-09T04:17:37.951813Z"
    },
    "papermill": {
     "duration": 0.038252,
     "end_time": "2022-03-09T04:55:54.685176",
     "exception": false,
     "start_time": "2022-03-09T04:55:54.646924",
     "status": "completed"
    },
    "tags": []
   },
   "outputs": [
    {
     "data": {
      "text/plain": [
       "((504, 8), (126, 8))"
      ]
     },
     "execution_count": 7,
     "metadata": {},
     "output_type": "execute_result"
    }
   ],
   "source": [
    "X_train, X_test, y_train, y_test=train_test_split(data.iloc[:, :8], data['stress_level'], \\\n",
    "                                                  test_size=0.2, random_state=8)\n",
    "X_train.shape, X_test.shape"
   ]
  },
  {
   "attachments": {},
   "cell_type": "markdown",
   "id": "eae953eb",
   "metadata": {
    "papermill": {
     "duration": 0.019855,
     "end_time": "2022-03-09T04:55:54.725737",
     "exception": false,
     "start_time": "2022-03-09T04:55:54.705882",
     "status": "completed"
    },
    "tags": []
   },
   "source": [
    "<div style=\"font-size:1.5em;\"><b>Performing One Hot Encoding on Labels</b></div>"
   ]
  },
  {
   "attachments": {},
   "cell_type": "markdown",
   "id": "f9a971d9",
   "metadata": {
    "papermill": {
     "duration": 0.019956,
     "end_time": "2022-03-09T04:55:54.765856",
     "exception": false,
     "start_time": "2022-03-09T04:55:54.745900",
     "status": "completed"
    },
    "tags": []
   },
   "source": [
    "<div style=\"font-size:1.2em;\">I'm converting the labels to binary matrices before feeding them to the MLP model.</div>"
   ]
  },
  {
   "cell_type": "code",
   "execution_count": 8,
   "id": "368dcc78",
   "metadata": {
    "execution": {
     "iopub.execute_input": "2022-03-09T04:55:54.811001Z",
     "iopub.status.busy": "2022-03-09T04:55:54.810374Z",
     "iopub.status.idle": "2022-03-09T04:56:00.885866Z",
     "shell.execute_reply": "2022-03-09T04:56:00.886367Z",
     "shell.execute_reply.started": "2022-03-09T04:19:52.406579Z"
    },
    "papermill": {
     "duration": 6.100454,
     "end_time": "2022-03-09T04:56:00.886619",
     "exception": false,
     "start_time": "2022-03-09T04:55:54.786165",
     "status": "completed"
    },
    "tags": []
   },
   "outputs": [],
   "source": [
    "from tensorflow.keras.utils import to_categorical"
   ]
  },
  {
   "cell_type": "code",
   "execution_count": 9,
   "id": "8240ac8e",
   "metadata": {
    "execution": {
     "iopub.execute_input": "2022-03-09T04:56:00.931936Z",
     "iopub.status.busy": "2022-03-09T04:56:00.929943Z",
     "iopub.status.idle": "2022-03-09T04:56:00.936115Z",
     "shell.execute_reply": "2022-03-09T04:56:00.936669Z",
     "shell.execute_reply.started": "2022-03-09T04:19:57.822457Z"
    },
    "papermill": {
     "duration": 0.029913,
     "end_time": "2022-03-09T04:56:00.936834",
     "exception": false,
     "start_time": "2022-03-09T04:56:00.906921",
     "status": "completed"
    },
    "tags": []
   },
   "outputs": [
    {
     "data": {
      "text/plain": [
       "array([[0., 0., 0., 1., 0.],\n",
       "       [1., 0., 0., 0., 0.],\n",
       "       [1., 0., 0., 0., 0.],\n",
       "       [1., 0., 0., 0., 0.],\n",
       "       [0., 0., 0., 0., 1.]], dtype=float32)"
      ]
     },
     "execution_count": 9,
     "metadata": {},
     "output_type": "execute_result"
    }
   ],
   "source": [
    "num_classes=5\n",
    "y_train=to_categorical(y_train, num_classes)\n",
    "y_test=to_categorical(y_test, num_classes)\n",
    "y_train[:5]"
   ]
  },
  {
   "attachments": {},
   "cell_type": "markdown",
   "id": "6df5cc14",
   "metadata": {
    "papermill": {
     "duration": 0.020854,
     "end_time": "2022-03-09T04:56:00.978236",
     "exception": false,
     "start_time": "2022-03-09T04:56:00.957382",
     "status": "completed"
    },
    "tags": []
   },
   "source": [
    "<div style=\"font-size:1.5em;\"><b>Multi-layer Perceptron model</b></div>"
   ]
  },
  {
   "attachments": {},
   "cell_type": "markdown",
   "id": "981b2859",
   "metadata": {
    "papermill": {
     "duration": 0.020231,
     "end_time": "2022-03-09T04:56:01.019111",
     "exception": false,
     "start_time": "2022-03-09T04:56:00.998880",
     "status": "completed"
    },
    "tags": []
   },
   "source": [
    "<div style=\"font-size:1.2em;\">I'm using two hidden layers with 125 nodes and 'ReLU' activation in each layer.</div>"
   ]
  },
  {
   "cell_type": "code",
   "execution_count": 10,
   "id": "4fba536f",
   "metadata": {
    "execution": {
     "iopub.execute_input": "2022-03-09T04:56:01.063393Z",
     "iopub.status.busy": "2022-03-09T04:56:01.062810Z",
     "iopub.status.idle": "2022-03-09T04:56:01.067419Z",
     "shell.execute_reply": "2022-03-09T04:56:01.067984Z",
     "shell.execute_reply.started": "2022-03-09T04:29:58.974086Z"
    },
    "papermill": {
     "duration": 0.028598,
     "end_time": "2022-03-09T04:56:01.068149",
     "exception": false,
     "start_time": "2022-03-09T04:56:01.039551",
     "status": "completed"
    },
    "tags": []
   },
   "outputs": [],
   "source": [
    "from tensorflow.keras.models import Sequential\n",
    "from tensorflow.keras.layers import Dense, Dropout"
   ]
  },
  {
   "cell_type": "code",
   "execution_count": 11,
   "id": "fc0de425",
   "metadata": {
    "execution": {
     "iopub.execute_input": "2022-03-09T04:56:01.115000Z",
     "iopub.status.busy": "2022-03-09T04:56:01.114316Z",
     "iopub.status.idle": "2022-03-09T04:56:01.180287Z",
     "shell.execute_reply": "2022-03-09T04:56:01.180819Z",
     "shell.execute_reply.started": "2022-03-09T04:39:52.093208Z"
    },
    "papermill": {
     "duration": 0.09211,
     "end_time": "2022-03-09T04:56:01.181008",
     "exception": false,
     "start_time": "2022-03-09T04:56:01.088898",
     "status": "completed"
    },
    "tags": []
   },
   "outputs": [],
   "source": [
    "model=Sequential()\n",
    "model.add(Dense(125, activation=\"relu\"))\n",
    "model.add(Dense(125, activation=\"relu\"))\n",
    "model.add(Dense(5, \"softmax\"))"
   ]
  },
  {
   "attachments": {},
   "cell_type": "markdown",
   "id": "7ce4bf6b",
   "metadata": {
    "papermill": {
     "duration": 0.021091,
     "end_time": "2022-03-09T04:56:01.223397",
     "exception": false,
     "start_time": "2022-03-09T04:56:01.202306",
     "status": "completed"
    },
    "tags": []
   },
   "source": [
    "<div style=\"font-size:1.2em;\">I'm compiling the model with <b>adam</b> optimizer, <b>cross-entropy</b> loss and <b>accuracy</b> metric. Also, I'm running this model for <b>50</b> epochs. I'm also using a <b>validation set</b> which will be tested on the model at the end of each epoch.</div>"
   ]
  },
  {
   "cell_type": "code",
   "execution_count": 12,
   "id": "d8d99902",
   "metadata": {
    "execution": {
     "iopub.execute_input": "2022-03-09T04:56:01.276171Z",
     "iopub.status.busy": "2022-03-09T04:56:01.267588Z",
     "iopub.status.idle": "2022-03-09T04:56:05.818968Z",
     "shell.execute_reply": "2022-03-09T04:56:05.819598Z",
     "shell.execute_reply.started": "2022-03-09T04:39:52.731351Z"
    },
    "papermill": {
     "duration": 4.575586,
     "end_time": "2022-03-09T04:56:05.819794",
     "exception": false,
     "start_time": "2022-03-09T04:56:01.244208",
     "status": "completed"
    },
    "tags": []
   },
   "outputs": [
    {
     "name": "stdout",
     "output_type": "stream",
     "text": [
      "Epoch 1/50\n",
      "WARNING:tensorflow:Layer dense is casting an input tensor from dtype float64 to the layer's dtype of float32, which is new behavior in TensorFlow 2.  The layer has dtype float32 because its dtype defaults to floatx.\n",
      "\n",
      "If you intended to run this layer in float32, you can safely ignore this warning. If in doubt, this warning is likely only an issue if you are porting a TensorFlow 1.X model to TensorFlow 2.\n",
      "\n",
      "To change all layers to have dtype float64 by default, call `tf.keras.backend.set_floatx('float64')`. To change just this layer, pass dtype='float64' to the layer constructor. If you are the author of this layer, you can disable autocasting by passing autocast=False to the base Layer constructor.\n",
      "\n",
      "13/13 [==============================] - 1s 43ms/step - loss: 2.9355 - accuracy: 0.4119 - val_loss: 1.6024 - val_accuracy: 0.4158\n",
      "Epoch 2/50\n",
      "13/13 [==============================] - 0s 6ms/step - loss: 0.9495 - accuracy: 0.6377 - val_loss: 0.6510 - val_accuracy: 0.7327\n",
      "Epoch 3/50\n",
      "13/13 [==============================] - 0s 5ms/step - loss: 0.5206 - accuracy: 0.8263 - val_loss: 0.5249 - val_accuracy: 0.9208\n",
      "Epoch 4/50\n",
      "13/13 [==============================] - 0s 5ms/step - loss: 0.4458 - accuracy: 0.8710 - val_loss: 0.6221 - val_accuracy: 0.7426\n",
      "Epoch 5/50\n",
      "13/13 [==============================] - 0s 5ms/step - loss: 0.5247 - accuracy: 0.7767 - val_loss: 0.2943 - val_accuracy: 0.9604\n",
      "Epoch 6/50\n",
      "13/13 [==============================] - 0s 5ms/step - loss: 0.3154 - accuracy: 0.9280 - val_loss: 0.2841 - val_accuracy: 0.9604\n",
      "Epoch 7/50\n",
      "13/13 [==============================] - 0s 5ms/step - loss: 0.2433 - accuracy: 0.9578 - val_loss: 0.2919 - val_accuracy: 0.9109\n",
      "Epoch 8/50\n",
      "13/13 [==============================] - 0s 7ms/step - loss: 0.2273 - accuracy: 0.9553 - val_loss: 0.2257 - val_accuracy: 0.9802\n",
      "Epoch 9/50\n",
      "13/13 [==============================] - 0s 5ms/step - loss: 0.2372 - accuracy: 0.9355 - val_loss: 0.3321 - val_accuracy: 0.8911\n",
      "Epoch 10/50\n",
      "13/13 [==============================] - 0s 5ms/step - loss: 0.1960 - accuracy: 0.9801 - val_loss: 0.2318 - val_accuracy: 0.8812\n",
      "Epoch 11/50\n",
      "13/13 [==============================] - 0s 2ms/step - loss: 0.1760 - accuracy: 0.9777 - val_loss: 0.1822 - val_accuracy: 0.9307\n",
      "Epoch 12/50\n",
      "13/13 [==============================] - 0s 3ms/step - loss: 0.1487 - accuracy: 0.9851 - val_loss: 0.1684 - val_accuracy: 1.0000\n",
      "Epoch 13/50\n",
      "13/13 [==============================] - 0s 3ms/step - loss: 0.1491 - accuracy: 0.9826 - val_loss: 0.1370 - val_accuracy: 0.9901\n",
      "Epoch 14/50\n",
      "13/13 [==============================] - 0s 5ms/step - loss: 0.1242 - accuracy: 0.9926 - val_loss: 0.1393 - val_accuracy: 0.9604\n",
      "Epoch 15/50\n",
      "13/13 [==============================] - 0s 3ms/step - loss: 0.1204 - accuracy: 0.9876 - val_loss: 0.1381 - val_accuracy: 1.0000\n",
      "Epoch 16/50\n",
      "13/13 [==============================] - 0s 5ms/step - loss: 0.1090 - accuracy: 0.9950 - val_loss: 0.1148 - val_accuracy: 1.0000\n",
      "Epoch 17/50\n",
      "13/13 [==============================] - 0s 6ms/step - loss: 0.1045 - accuracy: 0.9950 - val_loss: 0.1154 - val_accuracy: 1.0000\n",
      "Epoch 18/50\n",
      "13/13 [==============================] - 0s 5ms/step - loss: 0.0937 - accuracy: 1.0000 - val_loss: 0.1006 - val_accuracy: 1.0000\n",
      "Epoch 19/50\n",
      "13/13 [==============================] - 0s 4ms/step - loss: 0.0871 - accuracy: 1.0000 - val_loss: 0.0946 - val_accuracy: 1.0000\n",
      "Epoch 20/50\n",
      "13/13 [==============================] - 0s 4ms/step - loss: 0.0787 - accuracy: 0.9975 - val_loss: 0.0843 - val_accuracy: 1.0000\n",
      "Epoch 21/50\n",
      "13/13 [==============================] - 0s 4ms/step - loss: 0.0753 - accuracy: 1.0000 - val_loss: 0.1069 - val_accuracy: 1.0000\n",
      "Epoch 22/50\n",
      "13/13 [==============================] - 0s 4ms/step - loss: 0.0750 - accuracy: 0.9926 - val_loss: 0.0770 - val_accuracy: 1.0000\n",
      "Epoch 23/50\n",
      "13/13 [==============================] - 0s 5ms/step - loss: 0.0779 - accuracy: 0.9950 - val_loss: 0.1032 - val_accuracy: 0.9901\n",
      "Epoch 24/50\n",
      "13/13 [==============================] - 0s 7ms/step - loss: 0.0824 - accuracy: 0.9950 - val_loss: 0.0869 - val_accuracy: 1.0000\n",
      "Epoch 25/50\n",
      "13/13 [==============================] - 0s 4ms/step - loss: 0.0608 - accuracy: 0.9975 - val_loss: 0.0569 - val_accuracy: 1.0000\n",
      "Epoch 26/50\n",
      "13/13 [==============================] - 0s 3ms/step - loss: 0.0490 - accuracy: 1.0000 - val_loss: 0.0732 - val_accuracy: 1.0000\n",
      "Epoch 27/50\n",
      "13/13 [==============================] - 0s 4ms/step - loss: 0.0452 - accuracy: 1.0000 - val_loss: 0.0547 - val_accuracy: 1.0000\n",
      "Epoch 28/50\n",
      "13/13 [==============================] - 0s 5ms/step - loss: 0.0447 - accuracy: 1.0000 - val_loss: 0.0519 - val_accuracy: 1.0000\n",
      "Epoch 29/50\n",
      "13/13 [==============================] - 0s 4ms/step - loss: 0.0413 - accuracy: 1.0000 - val_loss: 0.0481 - val_accuracy: 1.0000\n",
      "Epoch 30/50\n",
      "13/13 [==============================] - 0s 6ms/step - loss: 0.0387 - accuracy: 1.0000 - val_loss: 0.0444 - val_accuracy: 1.0000\n",
      "Epoch 31/50\n",
      "13/13 [==============================] - 0s 5ms/step - loss: 0.0358 - accuracy: 1.0000 - val_loss: 0.0409 - val_accuracy: 1.0000\n",
      "Epoch 32/50\n",
      "13/13 [==============================] - 0s 4ms/step - loss: 0.0338 - accuracy: 1.0000 - val_loss: 0.0400 - val_accuracy: 1.0000\n",
      "Epoch 33/50\n",
      "13/13 [==============================] - 0s 5ms/step - loss: 0.0346 - accuracy: 1.0000 - val_loss: 0.0391 - val_accuracy: 1.0000\n",
      "Epoch 34/50\n",
      "13/13 [==============================] - 0s 5ms/step - loss: 0.0323 - accuracy: 1.0000 - val_loss: 0.0455 - val_accuracy: 1.0000\n",
      "Epoch 35/50\n",
      "13/13 [==============================] - 0s 5ms/step - loss: 0.0316 - accuracy: 1.0000 - val_loss: 0.0350 - val_accuracy: 1.0000\n",
      "Epoch 36/50\n",
      "13/13 [==============================] - 0s 5ms/step - loss: 0.0261 - accuracy: 1.0000 - val_loss: 0.0319 - val_accuracy: 1.0000\n",
      "Epoch 37/50\n",
      "13/13 [==============================] - 0s 6ms/step - loss: 0.0241 - accuracy: 1.0000 - val_loss: 0.0315 - val_accuracy: 1.0000\n",
      "Epoch 38/50\n",
      "13/13 [==============================] - 0s 5ms/step - loss: 0.0239 - accuracy: 1.0000 - val_loss: 0.0291 - val_accuracy: 1.0000\n",
      "Epoch 39/50\n",
      "13/13 [==============================] - 0s 4ms/step - loss: 0.0219 - accuracy: 1.0000 - val_loss: 0.0283 - val_accuracy: 1.0000\n",
      "Epoch 40/50\n",
      "13/13 [==============================] - 0s 5ms/step - loss: 0.0221 - accuracy: 1.0000 - val_loss: 0.0275 - val_accuracy: 1.0000\n",
      "Epoch 41/50\n",
      "13/13 [==============================] - 0s 6ms/step - loss: 0.0202 - accuracy: 1.0000 - val_loss: 0.0260 - val_accuracy: 1.0000\n",
      "Epoch 42/50\n",
      "13/13 [==============================] - 0s 6ms/step - loss: 0.0199 - accuracy: 1.0000 - val_loss: 0.0264 - val_accuracy: 1.0000\n",
      "Epoch 43/50\n",
      "13/13 [==============================] - 0s 6ms/step - loss: 0.0188 - accuracy: 1.0000 - val_loss: 0.0259 - val_accuracy: 1.0000\n",
      "Epoch 44/50\n",
      "13/13 [==============================] - 0s 4ms/step - loss: 0.0180 - accuracy: 1.0000 - val_loss: 0.0224 - val_accuracy: 1.0000\n",
      "Epoch 45/50\n",
      "13/13 [==============================] - 0s 4ms/step - loss: 0.0171 - accuracy: 1.0000 - val_loss: 0.0238 - val_accuracy: 1.0000\n",
      "Epoch 46/50\n",
      "13/13 [==============================] - 0s 5ms/step - loss: 0.0166 - accuracy: 1.0000 - val_loss: 0.0206 - val_accuracy: 1.0000\n",
      "Epoch 47/50\n",
      "13/13 [==============================] - 0s 4ms/step - loss: 0.0151 - accuracy: 1.0000 - val_loss: 0.0206 - val_accuracy: 1.0000\n",
      "Epoch 48/50\n",
      "13/13 [==============================] - 0s 4ms/step - loss: 0.0150 - accuracy: 1.0000 - val_loss: 0.0197 - val_accuracy: 1.0000\n",
      "Epoch 49/50\n",
      "13/13 [==============================] - 0s 5ms/step - loss: 0.0145 - accuracy: 1.0000 - val_loss: 0.0178 - val_accuracy: 1.0000\n",
      "Epoch 50/50\n",
      "13/13 [==============================] - 0s 6ms/step - loss: 0.0149 - accuracy: 1.0000 - val_loss: 0.0179 - val_accuracy: 1.0000\n"
     ]
    }
   ],
   "source": [
    "epochs=50\n",
    "model.compile(loss='categorical_crossentropy', optimizer='adam', metrics=['accuracy'])\n",
    "stats=model.fit(X_train, y_train, epochs=epochs, validation_split=0.2)"
   ]
  },
  {
   "attachments": {},
   "cell_type": "markdown",
   "id": "866febc5",
   "metadata": {
    "papermill": {
     "duration": 0.058425,
     "end_time": "2022-03-09T04:56:05.937066",
     "exception": false,
     "start_time": "2022-03-09T04:56:05.878641",
     "status": "completed"
    },
    "tags": []
   },
   "source": [
    "<div style=\"font-size:1.5em;\"><b>Visualizing Training Results</b></div>"
   ]
  },
  {
   "cell_type": "code",
   "execution_count": 13,
   "id": "b391b4c2",
   "metadata": {
    "execution": {
     "iopub.execute_input": "2022-03-09T04:56:06.056455Z",
     "iopub.status.busy": "2022-03-09T04:56:06.055536Z",
     "iopub.status.idle": "2022-03-09T04:56:06.405822Z",
     "shell.execute_reply": "2022-03-09T04:56:06.405226Z",
     "shell.execute_reply.started": "2022-03-09T04:46:01.273434Z"
    },
    "papermill": {
     "duration": 0.411341,
     "end_time": "2022-03-09T04:56:06.405954",
     "exception": false,
     "start_time": "2022-03-09T04:56:05.994613",
     "status": "completed"
    },
    "tags": []
   },
   "outputs": [
    {
     "data": {
      "image/png": "[encoded data removed]",
      "text/plain": [
       "<Figure size 720x576 with 1 Axes>"
      ]
     },
     "metadata": {
      "needs_background": "light"
     },
     "output_type": "display_data"
    }
   ],
   "source": [
    "stats_df=pd.DataFrame(stats.history)\n",
    "stats_df['epoch']=list(range(epochs))\n",
    "plot.figure(figsize=(10, 8))\n",
    "sb.lineplot(y='loss', x='epoch', data=stats_df, color='deeppink', linewidth=2.5, label=\"Training loss\")\n",
    "sb.lineplot(y='val_loss', x='epoch', data=stats_df, color='darkturquoise', linewidth=2.5, label=\"Validation loss\")\n",
    "plot.grid()\n",
    "plot.legend()\n",
    "plot.title(\"Training and validation loss\")\n",
    "plot.xticks(range(0, 51, 5));"
   ]
  },
  {
   "attachments": {},
   "cell_type": "markdown",
   "id": "c45bffd8",
   "metadata": {
    "papermill": {
     "duration": 0.057974,
     "end_time": "2022-03-09T04:56:06.522959",
     "exception": false,
     "start_time": "2022-03-09T04:56:06.464985",
     "status": "completed"
    },
    "tags": []
   },
   "source": [
    "<div style=\"font-size:1.2em;\">Since we can see in the graph that the training and validation loss curve converged around the 25th epoch, this model has the best fit on this dataset.</div>"
   ]
  },
  {
   "cell_type": "code",
   "execution_count": 14,
   "id": "2ecc49a1",
   "metadata": {
    "execution": {
     "iopub.execute_input": "2022-03-09T04:56:06.662004Z",
     "iopub.status.busy": "2022-03-09T04:56:06.641503Z",
     "iopub.status.idle": "2022-03-09T04:56:06.955496Z",
     "shell.execute_reply": "2022-03-09T04:56:06.955975Z",
     "shell.execute_reply.started": "2022-03-09T04:47:05.220429Z"
    },
    "papermill": {
     "duration": 0.375321,
     "end_time": "2022-03-09T04:56:06.956144",
     "exception": false,
     "start_time": "2022-03-09T04:56:06.580823",
     "status": "completed"
    },
    "tags": []
   },
   "outputs": [
    {
     "data": {
      "image/png": "[encoded data removed]",
      "text/plain": [
       "<Figure size 720x576 with 1 Axes>"
      ]
     },
     "metadata": {
      "needs_background": "light"
     },
     "output_type": "display_data"
    }
   ],
   "source": [
    "stats_df=pd.DataFrame(stats.history)\n",
    "stats_df['epoch']=list(range(epochs))\n",
    "plot.figure(figsize=(10, 8))\n",
    "sb.lineplot(y='accuracy', x='epoch', data=stats_df, color='deeppink', linewidth=2.5, label=\"Training accuracy\")\n",
    "sb.lineplot(y='val_accuracy', x='epoch', data=stats_df, color='darkturquoise', linewidth=2.5, \\\n",
    "            label=\"Validation accuracy\")\n",
    "plot.grid()\n",
    "plot.legend()\n",
    "plot.title(\"Training and validation accuracy\")\n",
    "plot.xticks(range(0, 51, 5));"
   ]
  },
  {
   "attachments": {},
   "cell_type": "markdown",
   "id": "01e35890",
   "metadata": {
    "papermill": {
     "duration": 0.05926,
     "end_time": "2022-03-09T04:56:07.075472",
     "exception": false,
     "start_time": "2022-03-09T04:56:07.016212",
     "status": "completed"
    },
    "tags": []
   },
   "source": [
    "<div style=\"font-size:1.5em;\"><b>Testing the model on Test set</b></div>"
   ]
  },
  {
   "cell_type": "code",
   "execution_count": 15,
   "id": "294dfa76",
   "metadata": {
    "execution": {
     "iopub.execute_input": "2022-03-09T04:56:07.196420Z",
     "iopub.status.busy": "2022-03-09T04:56:07.195841Z",
     "iopub.status.idle": "2022-03-09T04:56:07.281519Z",
     "shell.execute_reply": "2022-03-09T04:56:07.281003Z",
     "shell.execute_reply.started": "2022-03-09T04:51:32.156029Z"
    },
    "papermill": {
     "duration": 0.147268,
     "end_time": "2022-03-09T04:56:07.281671",
     "exception": false,
     "start_time": "2022-03-09T04:56:07.134403",
     "status": "completed"
    },
    "tags": []
   },
   "outputs": [
    {
     "name": "stdout",
     "output_type": "stream",
     "text": [
      "4/4 [==============================] - 0s 998us/step - loss: 0.0157 - accuracy: 1.0000\n"
     ]
    }
   ],
   "source": [
    "_, accuracy=model.evaluate(X_test, y_test)"
   ]
  },
  {
   "attachments": {},
   "cell_type": "markdown",
   "id": "cffd8cb5",
   "metadata": {
    "papermill": {
     "duration": 0.059321,
     "end_time": "2022-03-09T04:56:07.401050",
     "exception": false,
     "start_time": "2022-03-09T04:56:07.341729",
     "status": "completed"
    },
    "tags": []
   },
   "source": [
    "<div style=\"font-size:1.2em;\">This model has an <b>accuracy</b> of <b>100%</b> on the test set.</div>"
   ]
  },
  {
   "cell_type": "code",
   "execution_count": null,
   "id": "302c7723",
   "metadata": {
    "papermill": {
     "duration": 0.059614,
     "end_time": "2022-03-09T04:56:07.520520",
     "exception": false,
     "start_time": "2022-03-09T04:56:07.460906",
     "status": "completed"
    },
    "tags": []
   },
   "outputs": [],
   "source": []
  }
 ],
 "metadata": {
  "kernelspec": {
   "display_name": "Python 3",
   "language": "python",
   "name": "python3"
  },
  "language_info": {
   "codemirror_mode": {
    "name": "ipython",
    "version": 3
   },
   "file_extension": ".py",
   "mimetype": "text/x-python",
   "name": "python",
   "nbconvert_exporter": "python",
   "pygments_lexer": "ipython3",
   "version": "3.10.6"
  },
  "papermill": {
   "default_parameters": {},
   "duration": 26.582192,
   "end_time": "2022-03-09T04:56:10.529311",
   "environment_variables": {},
   "exception": null,
   "input_path": "__notebook__.ipynb",
   "output_path": "__notebook__.ipynb",
   "parameters": {},
   "start_time": "2022-03-09T04:55:43.947119",
   "version": "2.3.3"
  }
 },
 "nbformat": 4,
 "nbformat_minor": 5
}
